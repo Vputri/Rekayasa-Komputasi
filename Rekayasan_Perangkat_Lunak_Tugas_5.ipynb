{
  "nbformat": 4,
  "nbformat_minor": 0,
  "metadata": {
    "colab": {
      "name": "Rekayasan_Perangkat_Lunak_Tugas_5.ipynb",
      "provenance": [],
      "collapsed_sections": [],
      "include_colab_link": true
    },
    "kernelspec": {
      "name": "python3",
      "display_name": "Python 3"
    },
    "language_info": {
      "name": "python"
    }
  },
  "cells": [
    {
      "cell_type": "markdown",
      "metadata": {
        "id": "view-in-github",
        "colab_type": "text"
      },
      "source": [
        "<a href=\"https://colab.research.google.com/github/Vputri/Rekayasa-Komputasi/blob/main/Rekayasan_Perangkat_Lunak_Tugas_5.ipynb\" target=\"_parent\"><img src=\"https://colab.research.google.com/assets/colab-badge.svg\" alt=\"Open In Colab\"/></a>"
      ]
    },
    {
      "cell_type": "markdown",
      "metadata": {
        "id": "TQcJqX7AsPbQ"
      },
      "source": [
        "# Linear Regression Using Least Squares"
      ]
    },
    {
      "cell_type": "code",
      "metadata": {
        "id": "qfjYq2BH3a0X",
        "colab": {
          "base_uri": "https://localhost:8080/"
        },
        "outputId": "4ddf487b-067e-4d61-8351-1fe71af0001e"
      },
      "source": [
        "import pandas as pd\n",
        "data = pd.read_csv('/content/headbrain.csv')\n",
        "data.head()"
      ],
      "execution_count": null,
      "outputs": [
        {
          "output_type": "execute_result",
          "data": {
            "text/html": [
              "<div>\n",
              "<style scoped>\n",
              "    .dataframe tbody tr th:only-of-type {\n",
              "        vertical-align: middle;\n",
              "    }\n",
              "\n",
              "    .dataframe tbody tr th {\n",
              "        vertical-align: top;\n",
              "    }\n",
              "\n",
              "    .dataframe thead th {\n",
              "        text-align: right;\n",
              "    }\n",
              "</style>\n",
              "<table border=\"1\" class=\"dataframe\">\n",
              "  <thead>\n",
              "    <tr style=\"text-align: right;\">\n",
              "      <th></th>\n",
              "      <th>Gender</th>\n",
              "      <th>Age Range</th>\n",
              "      <th>Head Size(cm^3)</th>\n",
              "      <th>Brain Weight(grams)</th>\n",
              "    </tr>\n",
              "  </thead>\n",
              "  <tbody>\n",
              "    <tr>\n",
              "      <th>0</th>\n",
              "      <td>1</td>\n",
              "      <td>1</td>\n",
              "      <td>4512</td>\n",
              "      <td>1530</td>\n",
              "    </tr>\n",
              "    <tr>\n",
              "      <th>1</th>\n",
              "      <td>1</td>\n",
              "      <td>1</td>\n",
              "      <td>3738</td>\n",
              "      <td>1297</td>\n",
              "    </tr>\n",
              "    <tr>\n",
              "      <th>2</th>\n",
              "      <td>1</td>\n",
              "      <td>1</td>\n",
              "      <td>4261</td>\n",
              "      <td>1335</td>\n",
              "    </tr>\n",
              "    <tr>\n",
              "      <th>3</th>\n",
              "      <td>1</td>\n",
              "      <td>1</td>\n",
              "      <td>3777</td>\n",
              "      <td>1282</td>\n",
              "    </tr>\n",
              "    <tr>\n",
              "      <th>4</th>\n",
              "      <td>1</td>\n",
              "      <td>1</td>\n",
              "      <td>4177</td>\n",
              "      <td>1590</td>\n",
              "    </tr>\n",
              "  </tbody>\n",
              "</table>\n",
              "</div>"
            ],
            "text/plain": [
              "   Gender  Age Range  Head Size(cm^3)  Brain Weight(grams)\n",
              "0       1          1             4512                 1530\n",
              "1       1          1             3738                 1297\n",
              "2       1          1             4261                 1335\n",
              "3       1          1             3777                 1282\n",
              "4       1          1             4177                 1590"
            ]
          },
          "metadata": {
            "tags": []
          },
          "execution_count": 1
        }
      ]
    },
    {
      "cell_type": "code",
      "metadata": {
        "id": "cB3-XKbAlPoj"
      },
      "source": [
        "X = data['Head Size(cm^3)'].values\n",
        "Y = data['Brain Weight(grams)'].values"
      ],
      "execution_count": null,
      "outputs": []
    },
    {
      "cell_type": "code",
      "metadata": {
        "id": "w6qoHarlrQEk"
      },
      "source": [
        "def mean(values):\n",
        "\treturn sum(values) / float(len(values))\n",
        " \n",
        "mean_x = mean(X)\n",
        "mean_y = mean(Y)\n",
        "n = len(X)"
      ],
      "execution_count": null,
      "outputs": []
    },
    {
      "cell_type": "markdown",
      "metadata": {
        "id": "9vg_nvaDfMuq"
      },
      "source": [
        "For each (x,y) point calculate x2 and xy"
      ]
    },
    {
      "cell_type": "code",
      "metadata": {
        "id": "5Pbe8uiErYNp"
      },
      "source": [
        "num = 0\n",
        "den = 0\n",
        "for i in range(n):\n",
        "  num += (X[i] - mean_x) * (Y[i] - mean_y)\n",
        "  den += (X[i] - mean_x) ** 2"
      ],
      "execution_count": null,
      "outputs": []
    },
    {
      "cell_type": "markdown",
      "metadata": {
        "id": "DLnWxZA4flBn"
      },
      "source": [
        "Calculate Slope m:"
      ]
    },
    {
      "cell_type": "code",
      "metadata": {
        "colab": {
          "base_uri": "https://localhost:8080/"
        },
        "id": "0_SfOHIufgTF",
        "outputId": "dcea342e-5104-4d16-e147-6368722e6680"
      },
      "source": [
        "m = num / den\n",
        "print(\"nilai m : \", m)"
      ],
      "execution_count": null,
      "outputs": [
        {
          "output_type": "stream",
          "text": [
            "nilai m :  0.26342933948939945\n"
          ],
          "name": "stdout"
        }
      ]
    },
    {
      "cell_type": "markdown",
      "metadata": {
        "id": "IENjvI0WfpWg"
      },
      "source": [
        "Calculate Intercept b:"
      ]
    },
    {
      "cell_type": "code",
      "metadata": {
        "colab": {
          "base_uri": "https://localhost:8080/"
        },
        "id": "yfKSMD0YfifA",
        "outputId": "7460de54-5670-46e1-eb75-b19fe830d00f"
      },
      "source": [
        "c = mean_y - (m * mean_x)\n",
        "print(\"nilai c : \", c)"
      ],
      "execution_count": null,
      "outputs": [
        {
          "output_type": "stream",
          "text": [
            "nilai c :  325.57342104944223\n"
          ],
          "name": "stdout"
        }
      ]
    },
    {
      "cell_type": "markdown",
      "metadata": {
        "id": "0jGc9SjYfxyj"
      },
      "source": [
        "Assemble the equation of a line"
      ]
    },
    {
      "cell_type": "code",
      "metadata": {
        "id": "6UkUaIfPzX9l"
      },
      "source": [
        "Y_pred = m * X + c"
      ],
      "execution_count": null,
      "outputs": []
    },
    {
      "cell_type": "code",
      "metadata": {
        "colab": {
          "base_uri": "https://localhost:8080/"
        },
        "id": "8aju1SYkr0Kx",
        "outputId": "72090fdd-6647-49fd-b146-7aed9292d7a0"
      },
      "source": [
        "import matplotlib.pyplot as plt\n",
        "\n",
        "plt.figure(figsize=(18,8))\n",
        "plt.scatter(X, Y, label='Actual')\n",
        "plt.plot([min(X), max(X)], [min(Y_pred), max(Y_pred)], color='red', label='Predicted')\n",
        "\n",
        "plt.xlabel('Head Size in cm3')\n",
        "plt.ylabel('Brain Weight in grams')\n",
        "plt.legend()\n",
        "plt.show()"
      ],
      "execution_count": null,
      "outputs": [
        {
          "output_type": "display_data",
          "data": {
            "image/png": "[encoded data removed]",
            "text/plain": [
              "<Figure size 1296x576 with 1 Axes>"
            ]
          },
          "metadata": {
            "tags": [],
            "needs_background": "light"
          }
        }
      ]
    },
    {
      "cell_type": "code",
      "metadata": {
        "colab": {
          "base_uri": "https://localhost:8080/"
        },
        "id": "nqS6QVrLsL56",
        "outputId": "7a3fd9a0-f3f1-4915-b27f-25c752af1fb1"
      },
      "source": [
        "import numpy as np\n",
        "rmse = 0\n",
        "for i in range(n):\n",
        "    predictions = list()\n",
        "    y_pred = c + m * X[i]\n",
        "    rmse += (Y[i] - y_pred) ** 2\n",
        "rmse = np.sqrt(rmse/n)\n",
        "print(\"RMSE : \", rmse)"
      ],
      "execution_count": null,
      "outputs": [
        {
          "output_type": "stream",
          "text": [
            "RMSE :  72.1206213783709\n"
          ],
          "name": "stdout"
        }
      ]
    },
    {
      "cell_type": "markdown",
      "metadata": {
        "id": "RAD-OACB79s3"
      },
      "source": [
        "# Nonlinier Regression (Polynomial Regression)"
      ]
    },
    {
      "cell_type": "code",
      "metadata": {
        "id": "wXfHE1Wl61Sd"
      },
      "source": [
        "np.random.seed(42)\n",
        "X = np.random.rand(1000,1)\n",
        "y = 5*((X)**(2)) + np.random.rand(1000,1)"
      ],
      "execution_count": null,
      "outputs": []
    },
    {
      "cell_type": "code",
      "metadata": {
        "id": "Vh3loWes7DFt"
      },
      "source": [
        "def loss(y, y_hat):\n",
        "    loss = np.mean((y_hat - y)**2)\n",
        "    return loss"
      ],
      "execution_count": null,
      "outputs": []
    },
    {
      "cell_type": "code",
      "metadata": {
        "id": "xjVrhqKs7Jtm"
      },
      "source": [
        "def gradients(X, y, y_hat):\n",
        "    m = X.shape[0]\n",
        "    dw = (1/m)*np.dot(X.T, (y_hat - y))\n",
        "    db = (1/m)*np.sum((y_hat - y)) \n",
        "    return dw, db"
      ],
      "execution_count": null,
      "outputs": []
    },
    {
      "cell_type": "code",
      "metadata": {
        "id": "nBh7WtgL7PtS"
      },
      "source": [
        "def x_transform(X, degrees):\n",
        "    t = X.copy()\n",
        "    for i in degrees:\n",
        "        X = np.append(X, t**i, axis=1)\n",
        "            \n",
        "    return X"
      ],
      "execution_count": null,
      "outputs": []
    },
    {
      "cell_type": "code",
      "metadata": {
        "id": "-gIqj2s27Sfb"
      },
      "source": [
        "def train(X, y, bs, degrees, epochs, lr):\n",
        "    x = x_transform(X, degrees)\n",
        "    m, n = x.shape\n",
        "    w = np.zeros((n,1))\n",
        "    b = 0\n",
        "    y = y.reshape(m,1)\n",
        "    losses = []\n",
        "    \n",
        "    for epoch in range(epochs):\n",
        "        for i in range((m-1)//bs + 1):\n",
        "            start_i = i*bs\n",
        "            end_i = start_i + bs\n",
        "            xb = x[start_i:end_i]\n",
        "            yb = y[start_i:end_i]\n",
        "            y_hat = np.dot(xb, w) + b\n",
        "            dw, db = gradients(xb, yb, y_hat)\n",
        "            w -= lr*dw\n",
        "            b -= lr*db\n",
        "\n",
        "        l = loss(y, np.dot(x, w) + b)\n",
        "        losses.append(l)\n",
        "        \n",
        "    return w, b, losses"
      ],
      "execution_count": null,
      "outputs": []
    },
    {
      "cell_type": "code",
      "metadata": {
        "id": "WR2tIWzE7YyO"
      },
      "source": [
        "def predict(X, w, b, degrees):\n",
        "    x1 = x_transform(X, degrees)\n",
        "    return np.dot(x1, w) + b"
      ],
      "execution_count": null,
      "outputs": []
    },
    {
      "cell_type": "code",
      "metadata": {
        "colab": {
          "base_uri": "https://localhost:8080/"
        },
        "id": "Ce5ka-cV7qK8",
        "outputId": "44f3cc64-a62d-48e5-88eb-5838e3db7afa"
      },
      "source": [
        "w, b, l = train(X, y, bs=100, degrees=[2], epochs=1000,\n",
        "                lr=0.01)# Plotting\n",
        "fig = plt.figure(figsize=(8,6))\n",
        "plt.plot(X, y, 'y.')\n",
        "plt.plot(X, predict(X, w, b, [2]), 'r.')\n",
        "plt.legend([\"Actual\", \"Polynomial Predictions\"])\n",
        "plt.xlabel('X')\n",
        "plt.ylabel('Y')\n",
        "plt.title('Polynomial Regression')\n",
        "plt.show()"
      ],
      "execution_count": null,
      "outputs": [
        {
          "output_type": "display_data",
          "data": {
            "image/png": "[encoded data removed]",
            "text/plain": [
              "<Figure size 576x432 with 1 Axes>"
            ]
          },
          "metadata": {
            "tags": [],
            "needs_background": "light"
          }
        }
      ]
    },
    {
      "cell_type": "code",
      "metadata": {
        "colab": {
          "base_uri": "https://localhost:8080/"
        },
        "id": "YIZppL_Z-BiA",
        "outputId": "fd8b7218-d578-427f-9859-3fcd76ef47fb"
      },
      "source": [
        "def r2_score(y, y_hat):\n",
        "    return 1 - (np.sum((np.array(y_hat)-np.array(y))**2)/\n",
        "                np.sum((np.array(y)-np.mean(np.array(y)))**2))\n",
        "r2_score(y, predict(X, w, b, [2]))"
      ],
      "execution_count": null,
      "outputs": [
        {
          "output_type": "execute_result",
          "data": {
            "text/plain": [
              "0.9551785719360419"
            ]
          },
          "metadata": {
            "tags": []
          },
          "execution_count": 17
        }
      ]
    }
  ]
}