{
  "nbformat": 4,
  "nbformat_minor": 0,
  "metadata": {
    "colab": {
      "name": "Rekayasan Perangkat Lunak_Tugas 3.ipynb",
      "provenance": [],
      "authorship_tag": "ABX9TyPMXrn8ofXSGoUPfWTPijM0",
      "include_colab_link": true
    },
    "kernelspec": {
      "display_name": "Python 3",
      "name": "python3"
    }
  },
  "cells": [
    {
      "cell_type": "markdown",
      "metadata": {
        "id": "view-in-github",
        "colab_type": "text"
      },
      "source": [
        "<a href=\"https://colab.research.google.com/github/Vputri/Rekayasa-Komputasi/blob/main/Rekayasan_Perangkat_Lunak_Tugas_3.ipynb\" target=\"_parent\"><img src=\"https://colab.research.google.com/assets/colab-badge.svg\" alt=\"Open In Colab\"/></a>"
      ]
    },
    {
      "cell_type": "markdown",
      "metadata": {
        "id": "srZ-Iivggp4P"
      },
      "source": [
        "# Matriks"
      ]
    },
    {
      "cell_type": "markdown",
      "metadata": {
        "id": "YObD7UrVjre2"
      },
      "source": [
        "**Penjumlahan**\n",
        "\n",
        "\n"
      ]
    },
    {
      "cell_type": "code",
      "metadata": {
        "colab": {
          "base_uri": "https://localhost:8080/"
        },
        "id": "IpI9yonGkQFt",
        "outputId": "a5e7b3e1-6623-45d9-9260-b11e9f8a02d0"
      },
      "source": [
        "import numpy as np\n",
        "\n",
        "A = np.array([[2, 3, 5], [4, 1, 2]])\n",
        "B = np.array([[1, 2, 6], [3, 2, 1]])\n",
        "C = A + B\n",
        "print(C)"
      ],
      "execution_count": null,
      "outputs": [
        {
          "output_type": "stream",
          "text": [
            "[[ 3  5 11]\n",
            " [ 7  3  3]]\n"
          ],
          "name": "stdout"
        }
      ]
    },
    {
      "cell_type": "markdown",
      "metadata": {
        "id": "RV2avaaakGik"
      },
      "source": [
        "**Pengurangan**"
      ]
    },
    {
      "cell_type": "code",
      "metadata": {
        "id": "Kb65Iy0S2dOr",
        "colab": {
          "base_uri": "https://localhost:8080/"
        },
        "outputId": "79126092-da4d-45c7-e705-4141bd990ab3"
      },
      "source": [
        "A = np.array([[2, 6], [-4, 1], [3, 2]])\n",
        "B = np.array([[6, -2], [4, 1], [0, 3]])\n",
        "C = A - B\n",
        "print(C)"
      ],
      "execution_count": null,
      "outputs": [
        {
          "output_type": "stream",
          "text": [
            "[[-4  8]\n",
            " [-8  0]\n",
            " [ 3 -1]]\n"
          ],
          "name": "stdout"
        }
      ]
    },
    {
      "cell_type": "markdown",
      "metadata": {
        "id": "t8cr3YidmXVF"
      },
      "source": [
        "**Perkalian Skalar**"
      ]
    },
    {
      "cell_type": "code",
      "metadata": {
        "colab": {
          "base_uri": "https://localhost:8080/"
        },
        "id": "AmLunRs9mfcL",
        "outputId": "5c368d50-669a-4e6a-ae0b-78e1e0e3b5f9"
      },
      "source": [
        "A = np.array([[2, 6], [-4, 1], [3, 2]])\n",
        "C = 2 * A\n",
        "print(C)"
      ],
      "execution_count": null,
      "outputs": [
        {
          "output_type": "stream",
          "text": [
            "[[ 4 12]\n",
            " [-8  2]\n",
            " [ 6  4]]\n"
          ],
          "name": "stdout"
        }
      ]
    },
    {
      "cell_type": "markdown",
      "metadata": {
        "id": "S0a2tJzqlCWf"
      },
      "source": [
        "**Perkalian Matriks dengan Matriks**"
      ]
    },
    {
      "cell_type": "code",
      "metadata": {
        "colab": {
          "base_uri": "https://localhost:8080/"
        },
        "id": "JcOsWpfwgpRy",
        "outputId": "3d2155f0-8f99-4979-d152-c3d8c32bea47"
      },
      "source": [
        "A = np.array([[2, 1, -6], [1, -3, 2]])\n",
        "B = np.array([[1, 0, -3], [0, 4, 2], [-2, 1, 1]])\n",
        "C = A.dot(B)\n",
        "print(C)"
      ],
      "execution_count": null,
      "outputs": [
        {
          "output_type": "stream",
          "text": [
            "[[ 14  -2 -10]\n",
            " [ -3 -10  -7]]\n"
          ],
          "name": "stdout"
        }
      ]
    },
    {
      "cell_type": "markdown",
      "metadata": {
        "id": "0ybIbSpNm9U_"
      },
      "source": [
        "**Determinan**"
      ]
    },
    {
      "cell_type": "code",
      "metadata": {
        "colab": {
          "base_uri": "https://localhost:8080/"
        },
        "id": "aQJX49IKmgc_",
        "outputId": "c99cf30a-fbe6-43d8-fe73-1c64147fcddf"
      },
      "source": [
        "A = np.array([[3, -7], [-9, 5]])\n",
        "determinan = np.linalg.det(A)\n",
        "print(round(determinan))"
      ],
      "execution_count": null,
      "outputs": [
        {
          "output_type": "stream",
          "text": [
            "-48\n"
          ],
          "name": "stdout"
        }
      ]
    },
    {
      "cell_type": "code",
      "metadata": {
        "colab": {
          "base_uri": "https://localhost:8080/"
        },
        "id": "_cDhMHuRnkrY",
        "outputId": "16576eaa-2d33-42d2-e418-3608019fe382"
      },
      "source": [
        "A = np.array([[3, 0, -2], [6, -8, 1], [0, 3, 4]])\n",
        "determinan = np.linalg.det(A)\n",
        "print(round(determinan))"
      ],
      "execution_count": null,
      "outputs": [
        {
          "output_type": "stream",
          "text": [
            "-141\n"
          ],
          "name": "stdout"
        }
      ]
    },
    {
      "cell_type": "markdown",
      "metadata": {
        "id": "7NhpHlvfn_Km"
      },
      "source": [
        "**Invers**"
      ]
    },
    {
      "cell_type": "code",
      "metadata": {
        "colab": {
          "base_uri": "https://localhost:8080/"
        },
        "id": "WF-DNNnOn-cp",
        "outputId": "ad5ce1ea-136e-45d0-883f-7c0a1db8c99d"
      },
      "source": [
        "A = np.array([[1, 2, 3], [2, 4, 3], [6, 1, 4]])\n",
        "invers = np.linalg.inv(A)\n",
        "print(invers)"
      ],
      "execution_count": null,
      "outputs": [
        {
          "output_type": "stream",
          "text": [
            "[[-0.39393939  0.15151515  0.18181818]\n",
            " [-0.3030303   0.42424242 -0.09090909]\n",
            " [ 0.66666667 -0.33333333  0.        ]]\n"
          ],
          "name": "stdout"
        }
      ]
    },
    {
      "cell_type": "markdown",
      "metadata": {
        "id": "CtbM7C2KpmS1"
      },
      "source": [
        "**Metode Eliminasi Gauss**"
      ]
    },
    {
      "cell_type": "code",
      "metadata": {
        "id": "8wTuCOREqgDM"
      },
      "source": [
        "import sys\n",
        "\n",
        "n = int(input('Masukkan jumlah variabel yang tidak diketahui: '))\n",
        "a = np.zeros((n,n+1))\n",
        "x = np.zeros(n)"
      ],
      "execution_count": null,
      "outputs": []
    },
    {
      "cell_type": "code",
      "metadata": {
        "id": "wfHZG-QC2cRv"
      },
      "source": [
        "print('Masukkan Augmented Matrix Coefficients:')\n",
        "for i in range(n):\n",
        "    for j in range(n+1):\n",
        "        a[i][j] = float(input( 'a['+str(i)+']['+ str(j)+']='))\n",
        "\n",
        "for i in range(n):\n",
        "    if a[i][i] == 0.0:\n",
        "        sys.exit('Terdekeksi dibagi dengan nol')\n",
        "        \n",
        "    for j in range(i+1, n):\n",
        "        ratio = a[j][i]/a[i][i]\n",
        "        \n",
        "        for k in range(n+1):\n",
        "            a[j][k] = a[j][k] - ratio * a[i][k]"
      ],
      "execution_count": null,
      "outputs": []
    },
    {
      "cell_type": "markdown",
      "metadata": {
        "id": "G4l0cTfJ2Sme"
      },
      "source": [
        "Proses Substitusi Mundur"
      ]
    },
    {
      "cell_type": "code",
      "metadata": {
        "id": "sWgx4ybV2P4d"
      },
      "source": [
        "x[n-1] = a[n-1][n]/a[n-1][n-1]\n",
        "\n",
        "for i in range(n-2,-1,-1):\n",
        "    x[i] = a[i][n]\n",
        "    \n",
        "    for j in range(i+1,n):\n",
        "        x[i] = x[i] - a[i][j]*x[j]\n",
        "    \n",
        "    x[i] = x[i]/a[i][i]"
      ],
      "execution_count": null,
      "outputs": []
    },
    {
      "cell_type": "markdown",
      "metadata": {
        "id": "j44T3Ulg2NB1"
      },
      "source": [
        "Solusi"
      ]
    },
    {
      "cell_type": "code",
      "metadata": {
        "id": "wrMvn8FS2LTk"
      },
      "source": [
        "print('\\nSolusinya adalah: ')\n",
        "for i in range(n):\n",
        "    print('X%d = %f' %(i,x[i]), end = '\\t')\n"
      ],
      "execution_count": null,
      "outputs": []
    },
    {
      "cell_type": "markdown",
      "metadata": {
        "id": "2krghijtrLPi"
      },
      "source": [
        "**Metode Eliminasi Gauss Seidell**"
      ]
    },
    {
      "cell_type": "markdown",
      "metadata": {
        "id": "lP2T3vQmsXa-"
      },
      "source": [
        "inisialisasi matrik A"
      ]
    },
    {
      "cell_type": "code",
      "metadata": {
        "colab": {
          "base_uri": "https://localhost:8080/"
        },
        "id": "NA-fL3P9tD1r",
        "outputId": "fb8c24b0-da6a-4655-e396-150098019729"
      },
      "source": [
        "from numpy import array,zeros\n",
        "\n",
        "A = array([[10.,-1.,2.,0.],\n",
        "           [-1.,11.,-1.,3.],\n",
        "           [2.,-1.,10.,-1.],\n",
        "           [0.,3.,-1.,8.]])\n",
        "print(A)"
      ],
      "execution_count": null,
      "outputs": [
        {
          "output_type": "stream",
          "text": [
            "[[10. -1.  2.  0.]\n",
            " [-1. 11. -1.  3.]\n",
            " [ 2. -1. 10. -1.]\n",
            " [ 0.  3. -1.  8.]]\n"
          ],
          "name": "stdout"
        }
      ]
    },
    {
      "cell_type": "markdown",
      "metadata": {
        "id": "aWS5JdYMsT5k"
      },
      "source": [
        "inisialisasi vektor b"
      ]
    },
    {
      "cell_type": "code",
      "metadata": {
        "colab": {
          "base_uri": "https://localhost:8080/"
        },
        "id": "Z2et42bJ6tpE",
        "outputId": "572978f8-15be-464d-83fd-47718b9d6296"
      },
      "source": [
        "b = array([[6.],\n",
        "           [25],\n",
        "           [-11],\n",
        "           [15]])\n",
        "print(b)"
      ],
      "execution_count": null,
      "outputs": [
        {
          "output_type": "stream",
          "text": [
            "[[  6.]\n",
            " [ 25.]\n",
            " [-11.]\n",
            " [ 15.]]\n"
          ],
          "name": "stdout"
        }
      ]
    },
    {
      "cell_type": "code",
      "metadata": {
        "id": "UFrOxqXN6rO9"
      },
      "source": [
        "n=len(A)\n",
        "iterasi=500\n",
        "toleransi=0.0001\n",
        "xlama=zeros((n,1))\n",
        "xbaru=zeros((n,1))\n",
        "c=zeros((n,1))\n",
        "T=zeros((n,n))"
      ],
      "execution_count": null,
      "outputs": []
    },
    {
      "cell_type": "markdown",
      "metadata": {
        "id": "qKH2F-qvsQAC"
      },
      "source": [
        "Menghitung matrik T dan vektor c"
      ]
    },
    {
      "cell_type": "code",
      "metadata": {
        "id": "4HfBSmoL6pUk"
      },
      "source": [
        "for j in range(0,n-1):\n",
        "  for i in range(0,n):\n",
        "    if i==j:\n",
        "      i=i+1\n",
        "    T[j][i]=-1.*A[j][i]/A[j][j]\n",
        "  c[j][0]=b[j][0]/A[j][j]\n",
        "\n",
        "j=n-1\n",
        "for i in range(0,n-1):\n",
        "  T[j][i]=-1.*A[j][i]/A[j][j]\n",
        "c[j][0]=b[j][0]/A[j][j]"
      ],
      "execution_count": null,
      "outputs": []
    },
    {
      "cell_type": "markdown",
      "metadata": {
        "id": "_wFheLY6sMrY"
      },
      "source": [
        "Metode Gauss-Seidel"
      ]
    },
    {
      "cell_type": "code",
      "metadata": {
        "id": "6cq1qWRC6mWE"
      },
      "source": [
        "for m in range(1,iterasi):\n",
        "  S=0\n",
        "  for i in range(0,n):\n",
        "    S=S+T[0][i]*xlama[i][0]\n",
        "  xbaru[0][0]=S+c[0][0]\n",
        "\n",
        "  for k in range(1,n):\n",
        "    P=0\n",
        "    for j in range(0,k):\n",
        "      P=P+T[k][j]*xbaru[j][0]\n",
        "    S=0\n",
        "\n",
        "    for i in range(k,n):\n",
        "      S=S+T[k][i]*xlama[i][0]\n",
        "    xbaru[k][0]=P+S+c[k][0]\n",
        "\n",
        "  x=xbaru-xlama\n",
        "\n",
        "  xlama=xbaru.copy()"
      ],
      "execution_count": null,
      "outputs": []
    },
    {
      "cell_type": "markdown",
      "metadata": {
        "id": "KywlWdRJsI4L"
      },
      "source": [
        "Mencetak hasil perhitungan"
      ]
    },
    {
      "cell_type": "code",
      "metadata": {
        "colab": {
          "base_uri": "https://localhost:8080/"
        },
        "id": "xVjhOxC76kLL",
        "outputId": "3aa4096a-ecf1-4f18-817a-49e31263cb2d"
      },
      "source": [
        "print('iterasi ke', m)\n",
        "print(xbaru)"
      ],
      "execution_count": null,
      "outputs": [
        {
          "output_type": "stream",
          "text": [
            "iterasi ke 499\n",
            "[[ 1.]\n",
            " [ 2.]\n",
            " [-1.]\n",
            " [ 1.]]\n"
          ],
          "name": "stdout"
        }
      ]
    },
    {
      "cell_type": "markdown",
      "metadata": {
        "id": "Qq6aHaRjrPtu"
      },
      "source": [
        "**Metode Dekomposisi LU**"
      ]
    },
    {
      "cell_type": "markdown",
      "metadata": {
        "id": "3wTsqjMRsbko"
      },
      "source": [
        "inisialisasi matrik augment"
      ]
    },
    {
      "cell_type": "code",
      "metadata": {
        "colab": {
          "base_uri": "https://localhost:8080/"
        },
        "id": "N5mUmUcdtEVm",
        "outputId": "fbd6fabb-8933-40c5-c4e0-7b9000cef735"
      },
      "source": [
        "from numpy import array,zeros\n",
        "\n",
        "A = array([[1, 0, -2, 7],\n",
        "           [2, -1, 3, 4],\n",
        "           [3, -3, 1, 5],\n",
        "           [2, 1, 4, 4]])\n",
        "print(A)"
      ],
      "execution_count": null,
      "outputs": [
        {
          "output_type": "stream",
          "text": [
            "[[ 1  0 -2  7]\n",
            " [ 2 -1  3  4]\n",
            " [ 3 -3  1  5]\n",
            " [ 2  1  4  4]]\n"
          ],
          "name": "stdout"
        }
      ]
    },
    {
      "cell_type": "code",
      "metadata": {
        "colab": {
          "base_uri": "https://localhost:8080/"
        },
        "id": "it29wW4qzSYo",
        "outputId": "9b3f78fb-19c9-4df5-bb4c-017b19e19afb"
      },
      "source": [
        "b = array([[11],\n",
        "           [9],\n",
        "           [8],\n",
        "           [10]])\n",
        "print(b)"
      ],
      "execution_count": null,
      "outputs": [
        {
          "output_type": "stream",
          "text": [
            "[[11]\n",
            " [ 9]\n",
            " [ 8]\n",
            " [10]]\n"
          ],
          "name": "stdout"
        }
      ]
    },
    {
      "cell_type": "code",
      "metadata": {
        "id": "7peyl0gj1-OG"
      },
      "source": [
        "n = len(A)\n",
        "L = zeros((n,n))\n",
        "\n",
        "for i in range(0,n):\n",
        "  L[i][i]=1"
      ],
      "execution_count": null,
      "outputs": []
    },
    {
      "cell_type": "markdown",
      "metadata": {
        "id": "a3yN8jzY1e23"
      },
      "source": [
        "Proses Triangularisasi"
      ]
    },
    {
      "cell_type": "code",
      "metadata": {
        "id": "QE23DXVE1bCX"
      },
      "source": [
        "for k in range(0,n-1):\n",
        "  #pivot\n",
        "  if A[k][k]==0:\n",
        "    for s in range(0,n):\n",
        "      v=A[k][s]\n",
        "      u=A[k+1][s]\n",
        "      A[k][s]=u\n",
        "      A[k+1][s]=v\n",
        "\n",
        "  for j in range(k+1,n):\n",
        "    m=A[j][k]/A[k][k]\n",
        "    L[j][k]=m\n",
        "    for i in range(0,n):\n",
        "      A[j][i]=A[j][i]-m*A[k][i]"
      ],
      "execution_count": null,
      "outputs": []
    },
    {
      "cell_type": "code",
      "metadata": {
        "id": "wx8hhe_O117z"
      },
      "source": [
        "U = zeros((n,n))\n",
        "for i in range(0,n):\n",
        "  for j in range(0,n):\n",
        "    U[i][j]=A[i][j]"
      ],
      "execution_count": null,
      "outputs": []
    },
    {
      "cell_type": "markdown",
      "metadata": {
        "id": "3b0P_8kG1Thc"
      },
      "source": [
        "Proses Substitusi Maju"
      ]
    },
    {
      "cell_type": "code",
      "metadata": {
        "id": "MGkBUOzT1RlK"
      },
      "source": [
        "y = zeros((n,1))\n",
        "y[0][0]=b[0][0]/L[0][0]\n",
        "for j in range(1,n):\n",
        "  S=0\n",
        "  for i in range(0,j):\n",
        "    S=S+y[i][0]*L[j][i]\n",
        "  y[j][0]=b[j][0]-S"
      ],
      "execution_count": null,
      "outputs": []
    },
    {
      "cell_type": "markdown",
      "metadata": {
        "id": "_s1wfec01MSx"
      },
      "source": [
        "Proses Substitusi Mundur"
      ]
    },
    {
      "cell_type": "code",
      "metadata": {
        "colab": {
          "base_uri": "https://localhost:8080/"
        },
        "id": "XeR848JX1Jc-",
        "outputId": "d913af33-83f2-4145-d163-69d25ca93549"
      },
      "source": [
        "x=zeros((n,1))\n",
        "x[n-1][0]=y[n-1][0]/U[n-1][n-1]\n",
        "\n",
        "for j in range(n-2,-1,-1):\n",
        "  S=0\n",
        "  for i in range(j+1,n):\n",
        "    S=S+U[j][i]*x[i][0]\n",
        "  x[j][0]=(y[j][0]-S)/U[j][j]\n",
        "\n",
        "print(x)"
      ],
      "execution_count": null,
      "outputs": [
        {
          "output_type": "stream",
          "text": [
            "[[-1.]\n",
            " [-0.]\n",
            " [ 1.]\n",
            " [ 2.]]\n"
          ],
          "name": "stdout"
        }
      ]
    }
  ]
}