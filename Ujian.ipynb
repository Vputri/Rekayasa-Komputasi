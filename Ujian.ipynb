{
  "nbformat": 4,
  "nbformat_minor": 0,
  "metadata": {
    "colab": {
      "name": "Ujian.ipynb",
      "provenance": [],
      "collapsed_sections": [],
      "authorship_tag": "ABX9TyMFhtBtbBYXL+Dq69IvYvC4",
      "include_colab_link": true
    },
    "kernelspec": {
      "name": "python3",
      "display_name": "Python 3"
    },
    "language_info": {
      "name": "python"
    }
  },
  "cells": [
    {
      "cell_type": "markdown",
      "metadata": {
        "id": "view-in-github",
        "colab_type": "text"
      },
      "source": [
        "<a href=\"https://colab.research.google.com/github/Vputri/Rekayasa-Komputasi/blob/main/Ujian.ipynb\" target=\"_parent\"><img src=\"https://colab.research.google.com/assets/colab-badge.svg\" alt=\"Open In Colab\"/></a>"
      ]
    },
    {
      "cell_type": "markdown",
      "metadata": {
        "id": "s0AWS2A93OgW"
      },
      "source": [
        "#SOAL 1"
      ]
    },
    {
      "cell_type": "code",
      "metadata": {
        "id": "FuQQyeISnCVP",
        "colab": {
          "base_uri": "https://localhost:8080/"
        },
        "outputId": "b382cc48-da6d-48e6-d9b1-1d6c9f7e8dfa"
      },
      "source": [
        "import pandas as pd\n",
        "import matplotlib.pyplot as plt\n",
        "x = [10.3, 15.4, 21.7]\n",
        "y = [172.0, 171.2, 168.2]\n",
        "df = pd.DataFrame(list(zip(x, y)), columns =['Jarak, x [m]', 'Elevasi, z [m] (Metode Lagrange)'])\n",
        "df = df.set_index('Jarak, x [m]').T\n",
        "print(\"Tabel dan gambar di bawah ini adalah data antara jarak dan elevasi tanah\")\n",
        "print(df)\n",
        "plt.plot(x, y, marker = 'o')\n",
        "plt.xlabel('Jarak, x [m]')\n",
        "plt.ylabel('Elevasi, z [m] ')\n",
        "for i in range(len(x)):\n",
        "\t\tt = \"({},{})\".format(x[i],y[i])\n",
        "\t\tplt.text(x[i]+0.2, y[i]+0.25, t) \n",
        "plt.show()\n",
        "print(\"\"\"\n",
        "Cari dan temukan kurva polinomial kuadratik (second-order polynomial) melewati ketiga titik data tersebut dengan metode\n",
        "(a) interpolasi Lagrange\n",
        "(b) interpolasi Newton\n",
        "Buat Program dan analisis yang luaranya berupa tabel seperti di bawah ini dan kurva seperti gambar diatas.\n",
        "\"\"\")\n",
        "x = x + [13.15, 16, 18.85]\n",
        "y = y + ['...', '...', '...']\n",
        "df = pd.DataFrame(list(zip(x, y)), columns =['Jarak, x [m]', 'Elevasi, z [m] (Metode Lagrange)'])\n",
        "df.sort_values(by=['Jarak, x [m]'], ignore_index=True)"
      ],
      "execution_count": null,
      "outputs": [
        {
          "output_type": "stream",
          "text": [
            "Tabel dan gambar di bawah ini adalah data antara jarak dan elevasi tanah\n",
            "Jarak, x [m]                       10.3   15.4   21.7\n",
            "Elevasi, z [m] (Metode Lagrange)  172.0  171.2  168.2\n"
          ],
          "name": "stdout"
        },
        {
          "output_type": "display_data",
          "data": {
            "image/png": "[encoded data removed]",
            "text/plain": [
              "<Figure size 432x288 with 1 Axes>"
            ]
          },
          "metadata": {
            "tags": [],
            "needs_background": "light"
          }
        },
        {
          "output_type": "stream",
          "text": [
            "\n",
            "Cari dan temukan kurva polinomial kuadratik (second-order polynomial) melewati ketiga titik data tersebut dengan metode\n",
            "(a) interpolasi Lagrange\n",
            "(b) interpolasi Newton\n",
            "Buat Program dan analisis yang luaranya berupa tabel seperti di bawah ini dan kurva seperti gambar diatas.\n",
            "\n"
          ],
          "name": "stdout"
        },
        {
          "output_type": "execute_result",
          "data": {
            "text/html": [
              "<div>\n",
              "<style scoped>\n",
              "    .dataframe tbody tr th:only-of-type {\n",
              "        vertical-align: middle;\n",
              "    }\n",
              "\n",
              "    .dataframe tbody tr th {\n",
              "        vertical-align: top;\n",
              "    }\n",
              "\n",
              "    .dataframe thead th {\n",
              "        text-align: right;\n",
              "    }\n",
              "</style>\n",
              "<table border=\"1\" class=\"dataframe\">\n",
              "  <thead>\n",
              "    <tr style=\"text-align: right;\">\n",
              "      <th></th>\n",
              "      <th>Jarak, x [m]</th>\n",
              "      <th>Elevasi, z [m] (Metode Lagrange)</th>\n",
              "    </tr>\n",
              "  </thead>\n",
              "  <tbody>\n",
              "    <tr>\n",
              "      <th>0</th>\n",
              "      <td>10.30</td>\n",
              "      <td>172</td>\n",
              "    </tr>\n",
              "    <tr>\n",
              "      <th>1</th>\n",
              "      <td>13.15</td>\n",
              "      <td>...</td>\n",
              "    </tr>\n",
              "    <tr>\n",
              "      <th>2</th>\n",
              "      <td>15.40</td>\n",
              "      <td>171.2</td>\n",
              "    </tr>\n",
              "    <tr>\n",
              "      <th>3</th>\n",
              "      <td>16.00</td>\n",
              "      <td>...</td>\n",
              "    </tr>\n",
              "    <tr>\n",
              "      <th>4</th>\n",
              "      <td>18.85</td>\n",
              "      <td>...</td>\n",
              "    </tr>\n",
              "    <tr>\n",
              "      <th>5</th>\n",
              "      <td>21.70</td>\n",
              "      <td>168.2</td>\n",
              "    </tr>\n",
              "  </tbody>\n",
              "</table>\n",
              "</div>"
            ],
            "text/plain": [
              "   Jarak, x [m] Elevasi, z [m] (Metode Lagrange)\n",
              "0         10.30                              172\n",
              "1         13.15                              ...\n",
              "2         15.40                            171.2\n",
              "3         16.00                              ...\n",
              "4         18.85                              ...\n",
              "5         21.70                            168.2"
            ]
          },
          "metadata": {
            "tags": []
          },
          "execution_count": 16
        }
      ]
    },
    {
      "cell_type": "markdown",
      "metadata": {
        "id": "lP634f36sGRe"
      },
      "source": [
        "## Metode Lagrange"
      ]
    },
    {
      "cell_type": "markdown",
      "metadata": {
        "id": "FD6yau_Iri4P"
      },
      "source": [
        "$f(x)=\\sum_{i=0}^n L_{i}(x)f(x_{i})$"
      ]
    },
    {
      "cell_type": "markdown",
      "metadata": {
        "id": "I9enT_0OvCNX"
      },
      "source": [
        "$L_{i}(x)=\\Pi_{j\\neq0}^n\\frac{(t-t_{j})}{(t_{i}-t_{j})}$"
      ]
    },
    {
      "cell_type": "code",
      "metadata": {
        "id": "hkC7VTjDdvkD"
      },
      "source": [
        "def Lagrange(x, y, xp):\n",
        "  xp = xp\n",
        "  yp = 0\n",
        "  for i in range(len(x)):\n",
        "    p = 1\n",
        "    for j in range(len(x)):\n",
        "      if j != i:\n",
        "        p *= (xp-x[j])/(x[i]-x[j])\n",
        "    yp += y[i] * p\n",
        "  return yp"
      ],
      "execution_count": null,
      "outputs": []
    },
    {
      "cell_type": "markdown",
      "metadata": {
        "id": "QAL322rEsOWe"
      },
      "source": [
        "## Metode Noewton"
      ]
    },
    {
      "cell_type": "markdown",
      "metadata": {
        "id": "PYfgffhfqrzt"
      },
      "source": [
        "$f(x)=f[x_{0}]+f[x_{0},x_{1}](x-x_{0})+...+f[x_{0},...,x_{k}](x-x_{0})(x-x_{1})...(x-x_{k-1})$"
      ]
    },
    {
      "cell_type": "markdown",
      "metadata": {
        "id": "dLTGPfLGpSwa"
      },
      "source": [
        "\n",
        "$f[x_{i},x_{i-1}]=\\frac{f(x_{i})-f(x_{i-1})}{x_{i}-x_{i-1}}$\n",
        "\n"
      ]
    },
    {
      "cell_type": "code",
      "metadata": {
        "id": "c5_rXQvzksK2"
      },
      "source": [
        "import numpy as np\n",
        "def newton_interpolation(X,Y,xp):\n",
        "    sum=Y[0]\n",
        "    temp=np.zeros((len(X),len(X)))\n",
        "    for i in range(0,len(X)):\n",
        "        temp[i,0]=Y[i]\n",
        "    temp_sum=1.0\n",
        "    for i in range(1,len(X)):\n",
        "        temp_sum=temp_sum*(xp-X[i-1])\n",
        "        for j in range(i,len(X)):\n",
        "            temp[j,i]=(temp[j,i-1]-temp[j-1,i-1])/(X[j]-X[j-i])\n",
        "        sum+=temp_sum*temp[i,i] \n",
        "    return sum"
      ],
      "execution_count": null,
      "outputs": []
    },
    {
      "cell_type": "code",
      "metadata": {
        "id": "FCI5n1mEe4v9"
      },
      "source": [
        "x = [10.3, 15.4, 21.7]\n",
        "y = [172.0, 171.2, 168.2]\n",
        "xp = [13.15, 16, 18.85]\n",
        "yl = []\n",
        "yn = []\n",
        "for i in xp:\n",
        "  yl.append(Lagrange(x, y, i))\n",
        "  yn.append(newton_interpolation(x,y,i))"
      ],
      "execution_count": null,
      "outputs": []
    },
    {
      "cell_type": "code",
      "metadata": {
        "colab": {
          "base_uri": "https://localhost:8080/"
        },
        "id": "WvxhUEHXd6Tf",
        "outputId": "708c71f3-d076-419e-bfa5-088c21dd4f34"
      },
      "source": [
        "import pandas as pd\n",
        "x.extend(xp)\n",
        "y.extend(yl)\n",
        "z = y\n",
        "y.extend(yn)\n",
        "\n",
        "df = pd.DataFrame(list(zip(x, y, z)), columns =['Jarak, x [m]', 'Elevasi, z [m] (Metode Lagrange)', 'Elevasi, z [m] (Metode Newton)'])\n",
        "df.drop(df.loc[df['Jarak, x [m]']== 15.40].index, inplace=True)\n",
        "df = df.sort_values(by=['Jarak, x [m]'], ignore_index=True)\n",
        "df"
      ],
      "execution_count": null,
      "outputs": [
        {
          "output_type": "execute_result",
          "data": {
            "text/html": [
              "<div>\n",
              "<style scoped>\n",
              "    .dataframe tbody tr th:only-of-type {\n",
              "        vertical-align: middle;\n",
              "    }\n",
              "\n",
              "    .dataframe tbody tr th {\n",
              "        vertical-align: top;\n",
              "    }\n",
              "\n",
              "    .dataframe thead th {\n",
              "        text-align: right;\n",
              "    }\n",
              "</style>\n",
              "<table border=\"1\" class=\"dataframe\">\n",
              "  <thead>\n",
              "    <tr style=\"text-align: right;\">\n",
              "      <th></th>\n",
              "      <th>Jarak, x [m]</th>\n",
              "      <th>Elevasi, z [m] (Metode Lagrange)</th>\n",
              "      <th>Elevasi, z [m] (Metode Newton)</th>\n",
              "    </tr>\n",
              "  </thead>\n",
              "  <tbody>\n",
              "    <tr>\n",
              "      <th>0</th>\n",
              "      <td>10.30</td>\n",
              "      <td>172.000000</td>\n",
              "      <td>172.000000</td>\n",
              "    </tr>\n",
              "    <tr>\n",
              "      <th>1</th>\n",
              "      <td>13.15</td>\n",
              "      <td>171.732563</td>\n",
              "      <td>171.732563</td>\n",
              "    </tr>\n",
              "    <tr>\n",
              "      <th>2</th>\n",
              "      <td>16.00</td>\n",
              "      <td>171.010084</td>\n",
              "      <td>171.010084</td>\n",
              "    </tr>\n",
              "    <tr>\n",
              "      <th>3</th>\n",
              "      <td>18.85</td>\n",
              "      <td>169.832563</td>\n",
              "      <td>169.832563</td>\n",
              "    </tr>\n",
              "    <tr>\n",
              "      <th>4</th>\n",
              "      <td>21.70</td>\n",
              "      <td>168.200000</td>\n",
              "      <td>168.200000</td>\n",
              "    </tr>\n",
              "  </tbody>\n",
              "</table>\n",
              "</div>"
            ],
            "text/plain": [
              "   Jarak, x [m]  ...  Elevasi, z [m] (Metode Newton)\n",
              "0         10.30  ...                      172.000000\n",
              "1         13.15  ...                      171.732563\n",
              "2         16.00  ...                      171.010084\n",
              "3         18.85  ...                      169.832563\n",
              "4         21.70  ...                      168.200000\n",
              "\n",
              "[5 rows x 3 columns]"
            ]
          },
          "metadata": {
            "tags": []
          },
          "execution_count": 20
        }
      ]
    },
    {
      "cell_type": "code",
      "metadata": {
        "id": "PzpM3Vzs0i8v",
        "colab": {
          "base_uri": "https://localhost:8080/"
        },
        "outputId": "f1158291-b6c6-490e-e6b8-d1b7814a124f"
      },
      "source": [
        "import matplotlib.pyplot as plt\n",
        "x = df['Jarak, x [m]']\n",
        "y = df['Elevasi, z [m] (Metode Lagrange)']\n",
        "plt.plot(x,y, marker = 'o')\n",
        "plt.xlabel('Jarak, x [m]')\n",
        "plt.ylabel('Elevasi, z [m] ')\n",
        "for i in range(len(x)):\n",
        "\t\tt = \"({:.2f},{:.2f})\".format(x[i],y[i])\n",
        "\t\tplt.text(x[i]+0.2, y[i]+0.25, t) \n",
        "plt.show()"
      ],
      "execution_count": null,
      "outputs": [
        {
          "output_type": "display_data",
          "data": {
            "image/png": "[encoded data removed]",
            "text/plain": [
              "<Figure size 432x288 with 1 Axes>"
            ]
          },
          "metadata": {
            "tags": [],
            "needs_background": "light"
          }
        }
      ]
    },
    {
      "cell_type": "markdown",
      "metadata": {
        "id": "VjLiOHIM3gBC"
      },
      "source": [
        "# SOAL 2"
      ]
    },
    {
      "cell_type": "code",
      "metadata": {
        "id": "r0jQFO-yItOL",
        "colab": {
          "base_uri": "https://localhost:8080/"
        },
        "outputId": "71899ce3-6c36-4879-e234-a0d6c40aba8e"
      },
      "source": [
        "!pip install quadpy"
      ],
      "execution_count": null,
      "outputs": [
        {
          "output_type": "stream",
          "text": [
            "Requirement already satisfied: quadpy in /usr/local/lib/python3.7/dist-packages (0.16.7)\n",
            "Requirement already satisfied: numpy in /usr/local/lib/python3.7/dist-packages (from quadpy) (1.19.5)\n",
            "Requirement already satisfied: ndim in /usr/local/lib/python3.7/dist-packages (from quadpy) (0.1.5)\n",
            "Requirement already satisfied: orthopy<0.9,>=0.8.3 in /usr/local/lib/python3.7/dist-packages (from quadpy) (0.8.5)\n",
            "Requirement already satisfied: sympy in /usr/local/lib/python3.7/dist-packages (from quadpy) (1.7.1)\n",
            "Requirement already satisfied: importlib-metadata; python_version < \"3.8\" in /usr/local/lib/python3.7/dist-packages (from quadpy) (4.6.1)\n",
            "Requirement already satisfied: scipy in /usr/local/lib/python3.7/dist-packages (from quadpy) (1.4.1)\n",
            "Requirement already satisfied: mpmath>=0.19 in /usr/local/lib/python3.7/dist-packages (from sympy->quadpy) (1.2.1)\n",
            "Requirement already satisfied: zipp>=0.5 in /usr/local/lib/python3.7/dist-packages (from importlib-metadata; python_version < \"3.8\"->quadpy) (3.5.0)\n",
            "Requirement already satisfied: typing-extensions>=3.6.4; python_version < \"3.8\" in /usr/local/lib/python3.7/dist-packages (from importlib-metadata; python_version < \"3.8\"->quadpy) (3.7.4.3)\n"
          ],
          "name": "stdout"
        }
      ]
    },
    {
      "cell_type": "markdown",
      "metadata": {
        "id": "2rdfwUnhogLv"
      },
      "source": [
        "\n",
        "\n",
        "> Dengan Library\n",
        "\n"
      ]
    },
    {
      "cell_type": "code",
      "metadata": {
        "colab": {
          "base_uri": "https://localhost:8080/",
          "height": 200
        },
        "id": "fKRO3jObOvHW",
        "outputId": "2670b1eb-7e4b-4ce8-dd26-14093c0565ff"
      },
      "source": [
        "from sympy import *\n",
        "import sympy as sp\n",
        "sp.init_printing()\n",
        "\n",
        "x, I = symbols('x I')\n",
        "fx = Integral(exp(x**2)*x)\n",
        "soal1 = sp.Eq(I, sp.Eq(fx, 26.79908))\n",
        "display(soal1)\n",
        "print(\"\"\"\n",
        "Hitung integral itu menggunakan pendekatan Gauss quadrature dengan\n",
        "a. 2 Titik\n",
        "b. 3 Titik\n",
        "c. 4 Titik\"\"\")"
      ],
      "execution_count": null,
      "outputs": [
        {
          "output_type": "display_data",
          "data": {
            "image/png": "[encoded data removed]",
            "text/latex": "$\\displaystyle I = \\int x e^{x^{2}}\\, dx = 26.79908$",
            "text/plain": [
              "    ⌠                      \n",
              "    ⎮    ⎛ 2⎞              \n",
              "    ⎮    ⎝x ⎠              \n",
              "I = ⎮ x⋅ℯ     dx = 26.79908\n",
              "    ⌡                      "
            ]
          },
          "metadata": {
            "tags": []
          }
        },
        {
          "output_type": "stream",
          "text": [
            "\n",
            "Hitung integral itu menggunakan pendekatan Gauss quadrature dengan\n",
            "a. 2 Titik\n",
            "b. 3 Titik\n",
            "c. 4 Titik\n"
          ],
          "name": "stdout"
        }
      ]
    },
    {
      "cell_type": "code",
      "metadata": {
        "colab": {
          "base_uri": "https://localhost:8080/",
          "height": 55
        },
        "id": "Vn4jdpxZLMc9",
        "outputId": "dac47465-8886-4e40-e377-bac4d189fe40"
      },
      "source": [
        "import scipy.integrate as integrate\n",
        "\n",
        "f = lambda x : (np.e**x**2)*x\n",
        "a = 0\n",
        "b = 2\n",
        "I = integrate.quad(f,a,b)\n",
        "soal1 = sp.Eq(fx, I[0])\n",
        "display(soal1)"
      ],
      "execution_count": null,
      "outputs": [
        {
          "output_type": "display_data",
          "data": {
            "image/png": "[encoded data removed]",
            "text/latex": "$\\displaystyle \\int x e^{x^{2}}\\, dx = 26.7990750165721$",
            "text/plain": [
              "⌠                              \n",
              "⎮    ⎛ 2⎞                      \n",
              "⎮    ⎝x ⎠                      \n",
              "⎮ x⋅ℯ     dx = 26.7990750165721\n",
              "⌡                              "
            ]
          },
          "metadata": {
            "tags": []
          }
        }
      ]
    },
    {
      "cell_type": "markdown",
      "metadata": {
        "id": "3u9uSfKGoal3"
      },
      "source": [
        "\n",
        "\n",
        "> TANPA LIBRARY\n"
      ]
    },
    {
      "cell_type": "code",
      "metadata": {
        "id": "H5ujjOwxjXFN"
      },
      "source": [
        "import math\n",
        "def f(x):\n",
        "    return math.exp(x**2)*x"
      ],
      "execution_count": null,
      "outputs": []
    },
    {
      "cell_type": "markdown",
      "metadata": {
        "id": "o34q22SpdgIb"
      },
      "source": [
        "### 2 TITIK"
      ]
    },
    {
      "cell_type": "code",
      "metadata": {
        "colab": {
          "base_uri": "https://localhost:8080/",
          "height": 55
        },
        "id": "P8_GRfpPdfNg",
        "outputId": "29ca5f0b-853a-470f-968e-fcea6dd9de4f"
      },
      "source": [
        "def titik2(b, a):\n",
        "  beda = (b-a)/2\n",
        "  w = 1\n",
        "  z = 1/math.sqrt(3)\n",
        "  x1 = (beda*(-z))+beda\n",
        "  x2 = (beda*z)+beda\n",
        "  f1 = f(x1)\n",
        "  f2 = f(x2)\n",
        "  hasil=beda*((w*f1)+(w*f2))\n",
        "  return hasil\n",
        "\n",
        "soal1 = sp.Eq(fx, titik2(2, 0))\n",
        "display(soal1)"
      ],
      "execution_count": null,
      "outputs": [
        {
          "output_type": "display_data",
          "data": {
            "image/png": "[encoded data removed]",
            "text/latex": "$\\displaystyle \\int x e^{x^{2}}\\, dx = 19.4928008315903$",
            "text/plain": [
              "⌠                              \n",
              "⎮    ⎛ 2⎞                      \n",
              "⎮    ⎝x ⎠                      \n",
              "⎮ x⋅ℯ     dx = 19.4928008315903\n",
              "⌡                              "
            ]
          },
          "metadata": {
            "tags": []
          }
        }
      ]
    },
    {
      "cell_type": "markdown",
      "metadata": {
        "id": "GwoJdwi5dz6x"
      },
      "source": [
        "### 3 TITIK"
      ]
    },
    {
      "cell_type": "code",
      "metadata": {
        "colab": {
          "base_uri": "https://localhost:8080/",
          "height": 55
        },
        "id": "OO0Q9XlndfZG",
        "outputId": "bc00a836-7d52-4e64-f3b9-f2587235398c"
      },
      "source": [
        "def titik3(b, a):\n",
        "  beda = (b-a)/2\n",
        "  w1 = 5/9\n",
        "  w2 = 8/9\n",
        "  z = math.sqrt(3/5)\n",
        "  z2 = 0\n",
        "  x1 = (beda*(-z))+beda\n",
        "  x2 = (beda*z2)+beda\n",
        "  x3 = (beda*z)+beda\n",
        "  f1 = f(x1)\n",
        "  f2 = f(x2)\n",
        "  f3 = f(x3)\n",
        "  hasil=beda*((w1*f1)+(w2*f2)+(w1*f3))\n",
        "  return hasil\n",
        "\n",
        "soal1 = sp.Eq(fx, titik3(2, 0))\n",
        "display(soal1)"
      ],
      "execution_count": null,
      "outputs": [
        {
          "output_type": "display_data",
          "data": {
            "image/png": "[encoded data removed]",
            "text/latex": "$\\displaystyle \\int x e^{x^{2}}\\, dx = 25.5361736415677$",
            "text/plain": [
              "⌠                              \n",
              "⎮    ⎛ 2⎞                      \n",
              "⎮    ⎝x ⎠                      \n",
              "⎮ x⋅ℯ     dx = 25.5361736415677\n",
              "⌡                              "
            ]
          },
          "metadata": {
            "tags": []
          }
        }
      ]
    },
    {
      "cell_type": "markdown",
      "metadata": {
        "id": "_7eFKOz4d3TD"
      },
      "source": [
        "\n",
        "### 4 TITIK"
      ]
    },
    {
      "cell_type": "code",
      "metadata": {
        "colab": {
          "base_uri": "https://localhost:8080/",
          "height": 55
        },
        "id": "ZAxUqPridfit",
        "outputId": "35f3dd8d-7e6a-4cd3-b412-80e2efbadf15"
      },
      "source": [
        "def titik4(b, a):\n",
        "  beda = (b-a)/2\n",
        "  w1 = (18+math.sqrt(30))/36\n",
        "  w2 = (18-math.sqrt(30))/36\n",
        "  z1 = math.sqrt((3/7)-(2/7*math.sqrt(6/5)))\n",
        "  z2 = math.sqrt((3/7)+(2/7*math.sqrt(6/5)))\n",
        "  x1 = (beda*z1)+beda\n",
        "  x2 = (beda*(-z1))+beda\n",
        "  x3 = (beda*z2)+beda\n",
        "  x4 = (beda*(-z2))+beda\n",
        "  f1 = f(x1)\n",
        "  f2 = f(x2)\n",
        "  f3 = f(x3)\n",
        "  f4 = f(x4)\n",
        "  hasil=beda*((w1*f1)+(w1*f2)+(w2*f3)+(w2*f4))\n",
        "  return hasil\n",
        "\n",
        "soal1 = sp.Eq(fx, titik4(2, 0))\n",
        "display(soal1)"
      ],
      "execution_count": null,
      "outputs": [
        {
          "output_type": "display_data",
          "data": {
            "image/png": "[encoded data removed]",
            "text/latex": "$\\displaystyle \\int x e^{x^{2}}\\, dx = 26.655225501808$",
            "text/plain": [
              "⌠                             \n",
              "⎮    ⎛ 2⎞                     \n",
              "⎮    ⎝x ⎠                     \n",
              "⎮ x⋅ℯ     dx = 26.655225501808\n",
              "⌡                             "
            ]
          },
          "metadata": {
            "tags": []
          }
        }
      ]
    },
    {
      "cell_type": "markdown",
      "metadata": {
        "id": "vxgPDPp-3jMs"
      },
      "source": [
        "# SOAL 3"
      ]
    },
    {
      "cell_type": "code",
      "metadata": {
        "id": "ZZaOVCJGIYDT",
        "colab": {
          "base_uri": "https://localhost:8080/",
          "height": 205
        },
        "outputId": "9eb76a0d-a931-491e-ea86-c528febc8081"
      },
      "source": [
        "print(\"\"\"Kecepatan laju kereta api dalam 8 detik pertama sejak saat mulai bergerak dari posisi berhenti dinyatakan dengan persamaan\n",
        "matematis di bawah ini:\n",
        "\"\"\")\n",
        "v, t, x, dx, dt = symbols('v t x dx dt')\n",
        "soal1 = sp.Eq(v, sp.Eq(dx/dt, 5*exp(0.5*t)-0.8*x))\n",
        "display(soal1)\n",
        "print(\"\"\"\n",
        "Dalam persamaan tersebut, v adalah kecepatan laju kereta api dalam satuan meter per detik, t adalah waktu dalam selang 0 s.d.\n",
        "8 detik, dan x adalah jarak dari titik awal dalam satuan meter.\n",
        "\n",
        "Hitung posisi kereta api dari titik awal (x[m]) tiap selang 2 detik (t = 0, 2, 4, 6, 8 [s]) dengan metode Runge-kuta orde 2.\n",
        "Penyelesaian dilakukan dengan hand calculation dan program.\"\"\")"
      ],
      "execution_count": null,
      "outputs": [
        {
          "output_type": "stream",
          "text": [
            "Kecepatan laju kereta api dalam 8 detik pertama sejak saat mulai bergerak dari posisi berhenti dinyatakan dengan persamaan\n",
            "matematis di bawah ini:\n",
            "\n"
          ],
          "name": "stdout"
        },
        {
          "output_type": "display_data",
          "data": {
            "image/png": "[encoded data removed]",
            "text/latex": "$\\displaystyle v = \\frac{dx}{dt} = - 0.8 x + 5 e^{0.5 t}$",
            "text/plain": [
              "    dx               0.5⋅t\n",
              "v = ── = -0.8⋅x + 5⋅ℯ     \n",
              "    dt                    "
            ]
          },
          "metadata": {
            "tags": []
          }
        },
        {
          "output_type": "stream",
          "text": [
            "\n",
            "Dalam persamaan tersebut, v adalah kecepatan laju kereta api dalam satuan meter per detik, t adalah waktu dalam selang 0 s.d.\n",
            "8 detik, dan x adalah jarak dari titik awal dalam satuan meter.\n",
            "\n",
            "Hitung posisi kereta api dari titik awal (x[m]) tiap selang 2 detik (t = 0, 2, 4, 6, 8 [s]) dengan metode Runge-kuta orde 2.\n",
            "Penyelesaian dilakukan dengan hand calculation dan program.\n"
          ],
          "name": "stdout"
        }
      ]
    },
    {
      "cell_type": "code",
      "metadata": {
        "id": "NXVf2aHXCRGl",
        "colab": {
          "base_uri": "https://localhost:8080/",
          "height": 224
        },
        "outputId": "8e799a8a-132a-4c79-db7c-aeb4ecfbb84a"
      },
      "source": [
        "import math\n",
        "from sympy.abc import phi\n",
        "def f(t, x):\n",
        "    return 5*math.exp(0.5*t)-(0.8*x)\n",
        "\n",
        "def rungeKutta(t0, x0, tn, n):\n",
        "    result = []\n",
        "    h = tn-t0\n",
        "    for i in range(n):\n",
        "        k1 = f(t0, x0)\n",
        "        a = t0 + 0.75 * h\n",
        "        b = x0 + 0.75 * k1 * h\n",
        "        k2 = f(a, b)\n",
        "        c = (1/3*k1+2/3*k2)\n",
        "        x = x0 + c*h\n",
        "        hasil = [t0, x0, k1, a, b, k2, c, x]\n",
        "        result.append(hasil)\n",
        "        x0 = x\n",
        "        t0 = t0 + h\n",
        "    return result\n",
        "\n",
        "t0 = 0\n",
        "x0 = 0\n",
        "tn = 2\n",
        "banyak = 5\n",
        "hasil = rungeKutta(t0,x0,tn,banyak)\n",
        "df = pd.DataFrame(hasil, columns = ['ti', 'xi', 'k1', 'ti+3/4h', 'xi+3/4hk1','k2', pretty(phi),'xi+1'])\n",
        "df"
      ],
      "execution_count": null,
      "outputs": [
        {
          "output_type": "execute_result",
          "data": {
            "text/html": [
              "<div>\n",
              "<style scoped>\n",
              "    .dataframe tbody tr th:only-of-type {\n",
              "        vertical-align: middle;\n",
              "    }\n",
              "\n",
              "    .dataframe tbody tr th {\n",
              "        vertical-align: top;\n",
              "    }\n",
              "\n",
              "    .dataframe thead th {\n",
              "        text-align: right;\n",
              "    }\n",
              "</style>\n",
              "<table border=\"1\" class=\"dataframe\">\n",
              "  <thead>\n",
              "    <tr style=\"text-align: right;\">\n",
              "      <th></th>\n",
              "      <th>ti</th>\n",
              "      <th>xi</th>\n",
              "      <th>k1</th>\n",
              "      <th>ti+3/4h</th>\n",
              "      <th>xi+3/4hk1</th>\n",
              "      <th>k2</th>\n",
              "      <th>φ</th>\n",
              "      <th>xi+1</th>\n",
              "    </tr>\n",
              "  </thead>\n",
              "  <tbody>\n",
              "    <tr>\n",
              "      <th>0</th>\n",
              "      <td>0</td>\n",
              "      <td>0.000000</td>\n",
              "      <td>5.000000</td>\n",
              "      <td>1.5</td>\n",
              "      <td>7.500000</td>\n",
              "      <td>4.585000</td>\n",
              "      <td>4.723333</td>\n",
              "      <td>9.446667</td>\n",
              "    </tr>\n",
              "    <tr>\n",
              "      <th>1</th>\n",
              "      <td>2</td>\n",
              "      <td>9.446667</td>\n",
              "      <td>6.034076</td>\n",
              "      <td>3.5</td>\n",
              "      <td>18.497780</td>\n",
              "      <td>13.974789</td>\n",
              "      <td>11.327885</td>\n",
              "      <td>32.102436</td>\n",
              "    </tr>\n",
              "    <tr>\n",
              "      <th>2</th>\n",
              "      <td>4</td>\n",
              "      <td>32.102436</td>\n",
              "      <td>11.263332</td>\n",
              "      <td>5.5</td>\n",
              "      <td>48.997434</td>\n",
              "      <td>39.015213</td>\n",
              "      <td>29.764586</td>\n",
              "      <td>91.631607</td>\n",
              "    </tr>\n",
              "    <tr>\n",
              "      <th>3</th>\n",
              "      <td>6</td>\n",
              "      <td>91.631607</td>\n",
              "      <td>27.122399</td>\n",
              "      <td>7.5</td>\n",
              "      <td>132.315205</td>\n",
              "      <td>106.753246</td>\n",
              "      <td>80.209630</td>\n",
              "      <td>252.050867</td>\n",
              "    </tr>\n",
              "    <tr>\n",
              "      <th>4</th>\n",
              "      <td>8</td>\n",
              "      <td>252.050867</td>\n",
              "      <td>71.350056</td>\n",
              "      <td>9.5</td>\n",
              "      <td>359.075952</td>\n",
              "      <td>290.660661</td>\n",
              "      <td>217.557126</td>\n",
              "      <td>687.165120</td>\n",
              "    </tr>\n",
              "  </tbody>\n",
              "</table>\n",
              "</div>"
            ],
            "text/plain": [
              "   ti          xi         k1  ...          k2           φ        xi+1\n",
              "0   0    0.000000   5.000000  ...    4.585000    4.723333    9.446667\n",
              "1   2    9.446667   6.034076  ...   13.974789   11.327885   32.102436\n",
              "2   4   32.102436  11.263332  ...   39.015213   29.764586   91.631607\n",
              "3   6   91.631607  27.122399  ...  106.753246   80.209630  252.050867\n",
              "4   8  252.050867  71.350056  ...  290.660661  217.557126  687.165120\n",
              "\n",
              "[5 rows x 8 columns]"
            ]
          },
          "metadata": {
            "tags": []
          },
          "execution_count": 30
        }
      ]
    },
    {
      "cell_type": "markdown",
      "metadata": {
        "id": "LBlEQrhR3mEs"
      },
      "source": [
        "# SOAL 4"
      ]
    },
    {
      "cell_type": "code",
      "metadata": {
        "id": "tNyAotUq3pag"
      },
      "source": [
        "from sympy.abc import sigma\n",
        "print(\"\"\"Perpindahan radial u dari sebuah silinder berongga tebal bertekanan (jari2 dalam = 5″, jari2 luar = 8″)\n",
        "diberikan pada lokasi yang berbeda secara radial.\n",
        "\"\"\")\n",
        "x = [5.0, 5.6, 6.2, 6.8, 7.4, 8.0]\n",
        "y = [0.0038731, 0.0036165, 0.0034222, 0.0032743, 0.0031618, 0.0030769]\n",
        "df = pd.DataFrame(list(zip(x, y)), columns =['Radius (in)', 'Radius Displacement (in)'])\n",
        "print(df.to_string(index=False))\n",
        "print(\"\"\"\n",
        "Tegangan normal maksimum, dalam psi, pada silinder diberikan oleh:\n",
        "\"\"\")\n",
        "a, b, c, d, e, u, f, du, dr = symbols('3.2967 10 6 5 0.3 u (5) du dr')\n",
        "=  (a * b ** c) * (( u * f/ d)+ (e * du/dr * f))\n",
        "soal1 = sp.Eq(sigma, expr)\n",
        "display(expr)\n",
        "print(\"\"\"\n",
        "Tentukan tegangan maksimum, dalam psi, dengan akurasi orde kedua Buat Programnya!\"\"\")"
      ],
      "execution_count": null,
      "outputs": []
    },
    {
      "cell_type": "code",
      "metadata": {
        "id": "Wb0MAJY-a-nX"
      },
      "source": [
        ""
      ],
      "execution_count": null,
      "outputs": []
    }
  ]
}